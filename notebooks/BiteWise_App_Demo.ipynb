{
 "cells": [
  {
   "cell_type": "markdown",
   "id": "da85d96c",
   "metadata": {},
   "source": [
    "# BiteWise — Meal Planner (Notebook Demo)\n",
    "\n",
    "**What this does:** loads the BiteWise UI and lets you try image-based + manual ingredient planning inside Jupyter.\n",
    "\n",
    "**Requirements**\n",
    "- Repo installed in a virtual env (`pip install -e .`)\n",
    "- Optional: set `GOOGLE_API_KEY` in `.env` to enable image detection.\n",
    "- If widgets don’t render: `pip install ipywidgets` and restart the kernel.\n",
    "\n",
    "**How to use**\n",
    "1. Run the cell below to launch the UI.\n",
    "2. Upload an image or enter ingredients.\n",
    "3. Set calories/cuisine/allergies/diets and click the generate button."
   ]
  },
  {
   "cell_type": "code",
   "execution_count": null,
   "id": "42886ef0",
   "metadata": {
    "vscode": {
     "languageId": "plaintext"
    }
   },
   "outputs": [],
   "source": [
    "import importlib, bitewise.app\n",
    "importlib.reload(bitewise.app)          # force Jupyter to use the latest app.py in this repo\n",
    "from bitewise.app import run\n",
    "run()"
   ]
  },
  {
   "cell_type": "code",
   "execution_count": null,
   "id": "aa51299b",
   "metadata": {
    "vscode": {
     "languageId": "plaintext"
    }
   },
   "outputs": [],
   "source": [
    "# If widgets don't show up, run this once, then Kernel > Restart, and run the demo cell again.\n",
    "# !pip install ipywidgets pillow"
   ]
  }
 ],
 "metadata": {
  "language_info": {
   "name": "python"
  }
 },
 "nbformat": 4,
 "nbformat_minor": 5
}
